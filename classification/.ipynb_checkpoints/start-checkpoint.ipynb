{
 "cells": [
  {
   "cell_type": "code",
   "execution_count": null,
   "metadata": {},
   "outputs": [],
   "source": [
    "import pandas as pd\n",
    "\n",
    "# Load the dataset\n",
    "train_df = pd.read_csv('posts_train.csv')\n",
    "\n",
    "# Explore the first few records\n",
    "print(train_df.head())\n",
    "\n",
    "# Explore the distribution of classes\n",
    "print(train_df['class_id'].value_counts())\n"
   ]
  },
  {
   "cell_type": "code",
   "execution_count": null,
   "metadata": {},
   "outputs": [],
   "source": [
    "from transformers import XLNetTokenizer\n",
    "\n",
    "# Load the datasets\n",
    "train_df = pd.read_csv('posts_train.csv')\n",
    "val_df = pd.read_csv('posts_val.csv')\n",
    "test_df = pd.read_csv('posts_test.csv')\n",
    "\n",
    "# Load the tokenizer\n",
    "tokenizer = XLNetTokenizer.from_pretrained('xlnet-base-cased')\n",
    "\n",
    "# Tokenize your data\n",
    "train_encodings = tokenizer(train_df, truncation=True, padding=True)\n",
    "val_encodings = tokenizer(val_df, truncation=True, padding=True)\n",
    "test_encodings = tokenizer(test_df, truncation=True, padding=True)\n"
   ]
  },
  {
   "cell_type": "code",
   "execution_count": null,
   "metadata": {},
   "outputs": [],
   "source": []
  }
 ],
 "metadata": {
  "interpreter": {
   "hash": "31f2aee4e71d21fbe5cf8b01ff0e069b9275f58929596ceb00d14d90e3e16cd6"
  },
  "kernelspec": {
   "display_name": "Python 3 (ipykernel)",
   "language": "python",
   "name": "python3"
  },
  "language_info": {
   "codemirror_mode": {
    "name": "ipython",
    "version": 3
   },
   "file_extension": ".py",
   "mimetype": "text/x-python",
   "name": "python",
   "nbconvert_exporter": "python",
   "pygments_lexer": "ipython3",
   "version": "3.9.12"
  }
 },
 "nbformat": 4,
 "nbformat_minor": 2
}
