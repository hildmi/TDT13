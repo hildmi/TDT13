{
 "cells": [
  {
   "cell_type": "code",
   "execution_count": 1,
   "metadata": {},
   "outputs": [
    {
     "name": "stdout",
     "output_type": "stream",
     "text": [
      "                                     ID  \\\n",
      "0  691324c4-5c30-44e0-b9e4-45b4f0715e21   \n",
      "1  d4295391-9ca5-4398-b7c8-687e4a984ef1   \n",
      "2  58937fa5-3c2c-426b-8255-5a140fbab675   \n",
      "3  7daf364c-3b33-4cbe-be37-a214edf9a73e   \n",
      "4  22518271-4bb4-4caf-b683-7305da519288   \n",
      "\n",
      "                                                post class_name  class_id  \n",
      "0  i was making questions for my students and i r...       none         5  \n",
      "1  i've recently requested testing accommodations...       adhd         0  \n",
      "2  **cambodia** * koh rong: amazing beaches and a...       none         5  \n",
      "3  synesthesia. what is synesthesia? according to...       none         5  \n",
      "4  i’m phil baran and i teach organic chemistry a...       none         5  \n",
      "0    2465\n",
      "3    2450\n",
      "1    2422\n",
      "2    2407\n",
      "4    2001\n",
      "5    1982\n",
      "Name: class_id, dtype: int64\n"
     ]
    }
   ],
   "source": [
    "import pandas as pd\n",
    "\n",
    "# Load the dataset\n",
    "train_df = pd.read_csv('posts_train.csv')\n",
    "\n",
    "# Explore the first few records\n",
    "print(train_df.head())\n",
    "\n",
    "# Explore the distribution of classes\n",
    "print(train_df['class_id'].value_counts())\n"
   ]
  },
  {
   "cell_type": "code",
   "execution_count": 1,
   "metadata": {},
   "outputs": [
    {
     "ename": "ModuleNotFoundError",
     "evalue": "No module named 'transformers'",
     "output_type": "error",
     "traceback": [
      "\u001b[0;31m---------------------------------------------------------------------------\u001b[0m",
      "\u001b[0;31mModuleNotFoundError\u001b[0m                       Traceback (most recent call last)",
      "\u001b[0;32m/var/folders/wm/gx7gmrm11gg3h68_zyy170y80000gn/T/ipykernel_22466/1867978391.py\u001b[0m in \u001b[0;36m<module>\u001b[0;34m\u001b[0m\n\u001b[0;32m----> 1\u001b[0;31m \u001b[0;32mfrom\u001b[0m \u001b[0mtransformers\u001b[0m \u001b[0;32mimport\u001b[0m \u001b[0mXLNetTokenizer\u001b[0m\u001b[0;34m\u001b[0m\u001b[0;34m\u001b[0m\u001b[0m\n\u001b[0m\u001b[1;32m      2\u001b[0m \u001b[0;34m\u001b[0m\u001b[0m\n\u001b[1;32m      3\u001b[0m \u001b[0;31m# Load the datasets\u001b[0m\u001b[0;34m\u001b[0m\u001b[0;34m\u001b[0m\u001b[0;34m\u001b[0m\u001b[0m\n\u001b[1;32m      4\u001b[0m \u001b[0mtrain_df\u001b[0m \u001b[0;34m=\u001b[0m \u001b[0mpd\u001b[0m\u001b[0;34m.\u001b[0m\u001b[0mread_csv\u001b[0m\u001b[0;34m(\u001b[0m\u001b[0;34m'path_to_your_dataset_train.csv'\u001b[0m\u001b[0;34m)\u001b[0m\u001b[0;34m\u001b[0m\u001b[0;34m\u001b[0m\u001b[0m\n\u001b[1;32m      5\u001b[0m \u001b[0mval_df\u001b[0m \u001b[0;34m=\u001b[0m \u001b[0mpd\u001b[0m\u001b[0;34m.\u001b[0m\u001b[0mread_csv\u001b[0m\u001b[0;34m(\u001b[0m\u001b[0;34m'path_to_your_dataset_val.csv'\u001b[0m\u001b[0;34m)\u001b[0m\u001b[0;34m\u001b[0m\u001b[0;34m\u001b[0m\u001b[0m\n",
      "\u001b[0;31mModuleNotFoundError\u001b[0m: No module named 'transformers'"
     ]
    }
   ],
   "source": [
    "from transformers import XLNetTokenizer\n",
    "\n",
    "# Load the datasets\n",
    "train_df = pd.read_csv('posts_train.csv')\n",
    "val_df = pd.read_csv('posts_val.csv')\n",
    "test_df = pd.read_csv('posts_test.csv')\n",
    "\n",
    "# Load the tokenizer\n",
    "tokenizer = XLNetTokenizer.from_pretrained('xlnet-base-cased')\n",
    "\n",
    "# Tokenize your data\n",
    "train_encodings = tokenizer(train_df, truncation=True, padding=True)\n",
    "val_encodings = tokenizer(val_df, truncation=True, padding=True)\n",
    "test_encodings = tokenizer(test_df, truncation=True, padding=True)\n"
   ]
  }
 ],
 "metadata": {
  "interpreter": {
   "hash": "31f2aee4e71d21fbe5cf8b01ff0e069b9275f58929596ceb00d14d90e3e16cd6"
  },
  "kernelspec": {
   "display_name": "Python 3.8.2 64-bit",
   "language": "python",
   "name": "python3"
  },
  "language_info": {
   "codemirror_mode": {
    "name": "ipython",
    "version": 3
   },
   "file_extension": ".py",
   "mimetype": "text/x-python",
   "name": "python",
   "nbconvert_exporter": "python",
   "pygments_lexer": "ipython3",
   "version": "3.8.2"
  },
  "orig_nbformat": 4
 },
 "nbformat": 4,
 "nbformat_minor": 2
}
